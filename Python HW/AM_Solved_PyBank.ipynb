{
 "cells": [
  {
   "cell_type": "code",
   "execution_count": 9,
   "metadata": {},
   "outputs": [],
   "source": [
    "# import the os module to create file paths across operating systems\n",
    "import os"
   ]
  },
  {
   "cell_type": "code",
   "execution_count": 10,
   "metadata": {},
   "outputs": [],
   "source": [
    "# call python module for reading CSV files\n",
    "import csv\n",
    "\n",
    "# specify file path\n",
    "csvpath = os.path.join('Resources', 'budget_data.csv')\n"
   ]
  },
  {
   "cell_type": "code",
   "execution_count": 40,
   "metadata": {},
   "outputs": [
    {
     "name": "stdout",
     "output_type": "stream",
     "text": [
      "Financial Analysis\n",
      "-----------------------------------\n",
      "Total Months: 86\n",
      "Net Total Profit: $ 38382578.0\n",
      "Avereage Revenue Change: $ -2315.12\n",
      "Greatest Increase in Profits: Jan-2012 ($ 1926159.0 )\n",
      "Greatest Decrease in Profits: Aug-2013 ($ -2196167.0 )\n"
     ]
    }
   ],
   "source": [
    "# Read the csv and convert it into a list of dictionaries\n",
    "with open(csvpath, newline='') as csvfile:\n",
    "    reader = csv.reader(csvfile)\n",
    "\n",
    "    # use of next to skip first title row in csv file\n",
    "    next(reader) \n",
    "    profits = []\n",
    "    month = []\n",
    "    mom_change = []\n",
    "\n",
    "    # sum of column 1 which is profit/loss in csv file and count of total months which is column 0 \n",
    "    for row in reader:\n",
    "\n",
    "        profits.append(float(row[1]))\n",
    "        month.append(row[0])\n",
    "\n",
    "    print(\"Financial Analysis\")\n",
    "    print(\"-----------------------------------\")\n",
    "    print(\"Total Months:\", len(month))\n",
    "    print(\"Net Total Profit: $\", sum(profits))\n",
    "\n",
    "\n",
    "    #in this loop I did total of difference between all row of column \"Revenue\" and found total revnue change. Also found out max revenue change and min revenue change. \n",
    "    for i in range(1,len(profits)):\n",
    "        mom_change.append(profits[i] - profits[i-1])   \n",
    "        avg_change = sum(mom_change)/len(mom_change)\n",
    "\n",
    "        max_mom_change = max(mom_change)\n",
    "\n",
    "        min_mom_change = min(mom_change)\n",
    "\n",
    "        max_mom_change_date = str(month[mom_change.index(max(mom_change))])\n",
    "        min_mom_change_date = str(month[mom_change.index(min(mom_change))])\n",
    "\n",
    "\n",
    "    print(\"Avereage Revenue Change: $\", round((avg_change),2))\n",
    "    print(\"Greatest Increase in Profits:\", max_mom_change_date,\"($\", max_mom_change,\")\")\n",
    "    print(\"Greatest Decrease in Profits:\", min_mom_change_date,\"($\", min_mom_change,\")\")\n",
    "    \n",
    "        \n",
    "        \n",
    "        "
   ]
  },
  {
   "cell_type": "code",
   "execution_count": null,
   "metadata": {},
   "outputs": [],
   "source": [
    "     "
   ]
  },
  {
   "cell_type": "code",
   "execution_count": null,
   "metadata": {},
   "outputs": [],
   "source": []
  }
 ],
 "metadata": {
  "kernelspec": {
   "display_name": "Python 3",
   "language": "python",
   "name": "python3"
  },
  "language_info": {
   "codemirror_mode": {
    "name": "ipython",
    "version": 3
   },
   "file_extension": ".py",
   "mimetype": "text/x-python",
   "name": "python",
   "nbconvert_exporter": "python",
   "pygments_lexer": "ipython3",
   "version": "3.6.7"
  }
 },
 "nbformat": 4,
 "nbformat_minor": 2
}
